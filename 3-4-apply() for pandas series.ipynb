{
 "cells": [
  {
   "cell_type": "markdown",
   "id": "96d18c18",
   "metadata": {},
   "source": [
    "###\n",
    "## Applying Python Built in Functions:\n",
    "###\n"
   ]
  },
  {
   "cell_type": "code",
   "execution_count": 4,
   "id": "05b117ac",
   "metadata": {},
   "outputs": [
    {
     "data": {
      "text/plain": [
       "(0    <class 'str'>\n",
       " 1    <class 'str'>\n",
       " 2    <class 'str'>\n",
       " 3    <class 'str'>\n",
       " Name: Name, dtype: object,\n",
       " 0    <class 'int'>\n",
       " 1    <class 'int'>\n",
       " 2    <class 'int'>\n",
       " 3    <class 'int'>\n",
       " Name: Age, dtype: object,\n",
       " 0    3\n",
       " 1    8\n",
       " 2    8\n",
       " 3    6\n",
       " Name: Name, dtype: int64,\n",
       "          Name   Age    Gender\n",
       " 0       [Ali]  [20]    [Male]\n",
       " 1  [Mohammed]  [19]    [Male]\n",
       " 2  [Jennifer]  [21]  [Female]\n",
       " 3    [Rayyan]  [19]    [Male],\n",
       " 0         [Ali]\n",
       " 1    [Mohammed]\n",
       " 2    [Jennifer]\n",
       " 3      [Rayyan]\n",
       " Name: Name, dtype: object)"
      ]
     },
     "execution_count": 4,
     "metadata": {},
     "output_type": "execute_result"
    }
   ],
   "source": [
    "\n",
    "import pandas as pd\n",
    "\n",
    "file = a = pd.read_csv('name,age,gender.csv')\n",
    "a = pd.read_csv('name,age,gender.csv',usecols = ['Name']).squeeze()\n",
    "b = pd.read_csv('name,age,gender.csv',usecols = ['Age']).squeeze()\n",
    "\n",
    "a.apply(type),b.apply(type),a.apply(len),file.applymap(lambda x: str(x).split()),a.apply(lambda x: str(x).split())\n"
   ]
  },
  {
   "cell_type": "code",
   "execution_count": 5,
   "id": "6e543947",
   "metadata": {},
   "outputs": [
    {
     "data": {
      "text/plain": [
       "(0         ali\n",
       " 1    mohammed\n",
       " 2    jennifer\n",
       " 3      rayyan\n",
       " Name: Name, dtype: object,\n",
       " 0         ALI\n",
       " 1    MOHAMMED\n",
       " 2    JENNIFER\n",
       " 3      RAYYAN\n",
       " Name: Name, dtype: object,\n",
       " 0         Ali\n",
       " 1    Mohammed\n",
       " 2    Jennifer\n",
       " 3      Rayyan\n",
       " Name: Name, dtype: object,\n",
       " 0         [Ali]\n",
       " 1    [Mohammed]\n",
       " 2    [Jennifer]\n",
       " 3      [Rayyan]\n",
       " Name: Name, dtype: object)"
      ]
     },
     "execution_count": 5,
     "metadata": {},
     "output_type": "execute_result"
    }
   ],
   "source": [
    "a.apply(str.lower),a.apply(str.upper),a.apply(str.title),a.apply(str.split)"
   ]
  },
  {
   "cell_type": "code",
   "execution_count": 6,
   "id": "3afab882",
   "metadata": {},
   "outputs": [
    {
     "data": {
      "text/plain": [
       "0         [Ali]\n",
       "1    [Mohammed]\n",
       "2    [Jennifer]\n",
       "3      [Rayyan]\n",
       "Name: Name, dtype: object"
      ]
     },
     "execution_count": 6,
     "metadata": {},
     "output_type": "execute_result"
    }
   ],
   "source": [
    "a.apply(str.split)"
   ]
  },
  {
   "cell_type": "markdown",
   "id": "ed17a35d",
   "metadata": {},
   "source": [
    "###\n",
    "## Split:\n",
    "###"
   ]
  },
  {
   "cell_type": "code",
   "execution_count": 7,
   "id": "ae1362ef",
   "metadata": {},
   "outputs": [
    {
     "data": {
      "text/html": [
       "<div>\n",
       "<style scoped>\n",
       "    .dataframe tbody tr th:only-of-type {\n",
       "        vertical-align: middle;\n",
       "    }\n",
       "\n",
       "    .dataframe tbody tr th {\n",
       "        vertical-align: top;\n",
       "    }\n",
       "\n",
       "    .dataframe thead th {\n",
       "        text-align: right;\n",
       "    }\n",
       "</style>\n",
       "<table border=\"1\" class=\"dataframe\">\n",
       "  <thead>\n",
       "    <tr style=\"text-align: right;\">\n",
       "      <th></th>\n",
       "      <th>Name</th>\n",
       "      <th>Age</th>\n",
       "      <th>Gender</th>\n",
       "    </tr>\n",
       "  </thead>\n",
       "  <tbody>\n",
       "    <tr>\n",
       "      <th>0</th>\n",
       "      <td>[Ali]</td>\n",
       "      <td>[20]</td>\n",
       "      <td>[Male]</td>\n",
       "    </tr>\n",
       "    <tr>\n",
       "      <th>1</th>\n",
       "      <td>[Mohammed]</td>\n",
       "      <td>[19]</td>\n",
       "      <td>[Male]</td>\n",
       "    </tr>\n",
       "    <tr>\n",
       "      <th>2</th>\n",
       "      <td>[Jennifer]</td>\n",
       "      <td>[21]</td>\n",
       "      <td>[Female]</td>\n",
       "    </tr>\n",
       "    <tr>\n",
       "      <th>3</th>\n",
       "      <td>[Rayyan]</td>\n",
       "      <td>[19]</td>\n",
       "      <td>[Male]</td>\n",
       "    </tr>\n",
       "  </tbody>\n",
       "</table>\n",
       "</div>"
      ],
      "text/plain": [
       "         Name   Age    Gender\n",
       "0       [Ali]  [20]    [Male]\n",
       "1  [Mohammed]  [19]    [Male]\n",
       "2  [Jennifer]  [21]  [Female]\n",
       "3    [Rayyan]  [19]    [Male]"
      ]
     },
     "execution_count": 7,
     "metadata": {},
     "output_type": "execute_result"
    }
   ],
   "source": [
    "\n",
    "import pandas as pd\n",
    "\n",
    "a = pd.read_csv('name,age,gender.csv')\n",
    "b = a.applymap(lambda x: str(x).split())\n",
    "b"
   ]
  }
 ],
 "metadata": {
  "kernelspec": {
   "display_name": "Python 3 (ipykernel)",
   "language": "python",
   "name": "python3"
  },
  "language_info": {
   "codemirror_mode": {
    "name": "ipython",
    "version": 3
   },
   "file_extension": ".py",
   "mimetype": "text/x-python",
   "name": "python",
   "nbconvert_exporter": "python",
   "pygments_lexer": "ipython3",
   "version": "3.11.5"
  }
 },
 "nbformat": 4,
 "nbformat_minor": 5
}
