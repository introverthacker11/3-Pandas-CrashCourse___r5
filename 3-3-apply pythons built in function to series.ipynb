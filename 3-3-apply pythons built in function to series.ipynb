{
 "cells": [
  {
   "cell_type": "markdown",
   "id": "b8e7a876",
   "metadata": {},
   "source": [
    "###\n",
    "## Checking attributes of csv file:\n",
    "###"
   ]
  },
  {
   "cell_type": "code",
   "execution_count": 8,
   "id": "fbb4b74a",
   "metadata": {},
   "outputs": [
    {
     "name": "stdout",
     "output_type": "stream",
     "text": [
      "Atrributes:\n",
      "\n",
      "Length:\n",
      "3\n",
      "\n",
      "Type:\n",
      "<class 'pandas.core.frame.DataFrame'>\n",
      "\n",
      "Shape:\n",
      "(3, 2)\n",
      "\n",
      "Size:\n",
      "6\n",
      "\n",
      "Dimension:\n",
      "2\n",
      "\n",
      "Index:RangeIndex(start=0, stop=3, step=1)\n",
      "\n",
      "Data Types:\n",
      "Country         object\n",
      "Famous Place    object\n",
      "dtype: object\n",
      "\n",
      "Values:\n",
      "[['Pakistan' 'Faisal Mosque']\n",
      " ['Afghanistan' 'Band-e National Park']\n",
      " ['Palestine' 'Al-Aqsa Mosque']]\n",
      "\n",
      "Columns:\n",
      "Index(['Country', 'Famous Place'], dtype='object')\n"
     ]
    }
   ],
   "source": [
    "\n",
    "import pandas as pd\n",
    "\n",
    "a = pd.read_csv('famous place(csvfile3).csv')\n",
    "a\n",
    "\n",
    "print(f'Atrributes:\\n\\nLength:\\n{len(a)}\\n\\nType:\\n{type(a)}\\n\\nShape:\\n{a.shape}\\n\\nSize:\\n{a.size}\\n\\nDimension:\\n{a.ndim}\\n\\nIndex:{a.index}\\n\\nData Types:\\n{a.dtypes}\\n\\nValues:\\n{a.values}\\n\\nColumns:\\n{a.columns}')"
   ]
  },
  {
   "cell_type": "markdown",
   "id": "9d2b13b6",
   "metadata": {},
   "source": [
    "###\n",
    "## Getting Specific Column:\n",
    "###"
   ]
  },
  {
   "cell_type": "code",
   "execution_count": 1,
   "id": "9d07a6a2",
   "metadata": {},
   "outputs": [
    {
     "data": {
      "text/html": [
       "<div>\n",
       "<style scoped>\n",
       "    .dataframe tbody tr th:only-of-type {\n",
       "        vertical-align: middle;\n",
       "    }\n",
       "\n",
       "    .dataframe tbody tr th {\n",
       "        vertical-align: top;\n",
       "    }\n",
       "\n",
       "    .dataframe thead th {\n",
       "        text-align: right;\n",
       "    }\n",
       "</style>\n",
       "<table border=\"1\" class=\"dataframe\">\n",
       "  <thead>\n",
       "    <tr style=\"text-align: right;\">\n",
       "      <th></th>\n",
       "      <th>Age</th>\n",
       "    </tr>\n",
       "  </thead>\n",
       "  <tbody>\n",
       "    <tr>\n",
       "      <th>0</th>\n",
       "      <td>20</td>\n",
       "    </tr>\n",
       "    <tr>\n",
       "      <th>1</th>\n",
       "      <td>19</td>\n",
       "    </tr>\n",
       "    <tr>\n",
       "      <th>2</th>\n",
       "      <td>21</td>\n",
       "    </tr>\n",
       "    <tr>\n",
       "      <th>3</th>\n",
       "      <td>19</td>\n",
       "    </tr>\n",
       "  </tbody>\n",
       "</table>\n",
       "</div>"
      ],
      "text/plain": [
       "   Age\n",
       "0   20\n",
       "1   19\n",
       "2   21\n",
       "3   19"
      ]
     },
     "execution_count": 1,
     "metadata": {},
     "output_type": "execute_result"
    }
   ],
   "source": [
    "import pandas as pd\n",
    "\n",
    "a = pd.read_csv('name,age,gender.csv')\n",
    "b = pd.read_csv('name,age,gender.csv',usecols = ['Name'])\n",
    "c = pd.read_csv('name,age,gender.csv',usecols = ['Gender'])\n",
    "d = c = pd.read_csv('name,age,gender.csv',usecols = ['Age'])\n",
    "\n",
    "d"
   ]
  },
  {
   "cell_type": "markdown",
   "id": "ab867b19",
   "metadata": {},
   "source": [
    "###\n",
    "## Applying Statistical Operations:\n",
    "###\n"
   ]
  },
  {
   "cell_type": "code",
   "execution_count": 3,
   "id": "890a792c",
   "metadata": {},
   "outputs": [
    {
     "data": {
      "text/plain": [
       "(79,\n",
       " 19.75,\n",
       " 19.5,\n",
       " 0.9574271077563381,\n",
       " 4,\n",
       " 21,\n",
       " 19,\n",
       " 1    19\n",
       " 3    19\n",
       " 0    20\n",
       " 2    21\n",
       " Name: Age, dtype: int64,\n",
       " [19, 19, 20, 21],\n",
       " 2    21\n",
       " 0    20\n",
       " 1    19\n",
       " 3    19\n",
       " Name: Age, dtype: int64,\n",
       " [20, 19, 21, 19],\n",
       " {0: 20, 1: 19, 2: 21, 3: 19})"
      ]
     },
     "execution_count": 3,
     "metadata": {},
     "output_type": "execute_result"
    }
   ],
   "source": [
    "import pandas as pd\n",
    "\n",
    "a = pd.read_csv('name,age,gender.csv',usecols = ['Age']).squeeze()\n",
    "a\n",
    "a.sum(),a.mean(),a.median(),a.std(),a.count(),a.max(),a.min(),a.sort_values(),sorted(a),a.sort_values(ascending = False),list(a),dict(a)"
   ]
  },
  {
   "cell_type": "code",
   "execution_count": 4,
   "id": "5d8119ac",
   "metadata": {},
   "outputs": [
    {
     "data": {
      "text/plain": [
       "{0: 20, 1: 19, 2: 21, 3: 19}"
      ]
     },
     "execution_count": 4,
     "metadata": {},
     "output_type": "execute_result"
    }
   ],
   "source": [
    "dict(a)"
   ]
  }
 ],
 "metadata": {
  "kernelspec": {
   "display_name": "Python 3 (ipykernel)",
   "language": "python",
   "name": "python3"
  },
  "language_info": {
   "codemirror_mode": {
    "name": "ipython",
    "version": 3
   },
   "file_extension": ".py",
   "mimetype": "text/x-python",
   "name": "python",
   "nbconvert_exporter": "python",
   "pygments_lexer": "ipython3",
   "version": "3.11.5"
  }
 },
 "nbformat": 4,
 "nbformat_minor": 5
}
