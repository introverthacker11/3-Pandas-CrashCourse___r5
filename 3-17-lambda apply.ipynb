{
 "cells": [
  {
   "cell_type": "code",
   "execution_count": 13,
   "id": "be644743",
   "metadata": {},
   "outputs": [
    {
     "data": {
      "text/html": [
       "<div>\n",
       "<style scoped>\n",
       "    .dataframe tbody tr th:only-of-type {\n",
       "        vertical-align: middle;\n",
       "    }\n",
       "\n",
       "    .dataframe tbody tr th {\n",
       "        vertical-align: top;\n",
       "    }\n",
       "\n",
       "    .dataframe thead th {\n",
       "        text-align: right;\n",
       "    }\n",
       "</style>\n",
       "<table border=\"1\" class=\"dataframe\">\n",
       "  <thead>\n",
       "    <tr style=\"text-align: right;\">\n",
       "      <th></th>\n",
       "      <th>Colors</th>\n",
       "      <th>Fruits</th>\n",
       "      <th>Cars</th>\n",
       "      <th>Cities</th>\n",
       "      <th>Integers</th>\n",
       "      <th>float</th>\n",
       "    </tr>\n",
       "  </thead>\n",
       "  <tbody>\n",
       "    <tr>\n",
       "      <th>0</th>\n",
       "      <td>Green</td>\n",
       "      <td>Mango</td>\n",
       "      <td>Corolla</td>\n",
       "      <td>Karachi</td>\n",
       "      <td>1</td>\n",
       "      <td>1.200</td>\n",
       "    </tr>\n",
       "    <tr>\n",
       "      <th>1</th>\n",
       "      <td>Golden</td>\n",
       "      <td>Banana</td>\n",
       "      <td>Civic</td>\n",
       "      <td>Lahore</td>\n",
       "      <td>4</td>\n",
       "      <td>3.400</td>\n",
       "    </tr>\n",
       "    <tr>\n",
       "      <th>2</th>\n",
       "      <td>Blue</td>\n",
       "      <td>Orange</td>\n",
       "      <td>Hilux</td>\n",
       "      <td>Makkah</td>\n",
       "      <td>6</td>\n",
       "      <td>9.800</td>\n",
       "    </tr>\n",
       "    <tr>\n",
       "      <th>3</th>\n",
       "      <td>Yellow</td>\n",
       "      <td>Kiwi</td>\n",
       "      <td>Prado</td>\n",
       "      <td>Madina</td>\n",
       "      <td>2</td>\n",
       "      <td>7.600</td>\n",
       "    </tr>\n",
       "    <tr>\n",
       "      <th>4</th>\n",
       "      <td>Orange</td>\n",
       "      <td>Berry</td>\n",
       "      <td>Cultus</td>\n",
       "      <td>Islam Abad</td>\n",
       "      <td>3</td>\n",
       "      <td>9.760</td>\n",
       "    </tr>\n",
       "    <tr>\n",
       "      <th>5</th>\n",
       "      <td>Purple</td>\n",
       "      <td>Grapes</td>\n",
       "      <td>Camry</td>\n",
       "      <td>Hyder Abad</td>\n",
       "      <td>8</td>\n",
       "      <td>3.090</td>\n",
       "    </tr>\n",
       "    <tr>\n",
       "      <th>6</th>\n",
       "      <td>Brown</td>\n",
       "      <td>Apple</td>\n",
       "      <td>Supra</td>\n",
       "      <td>Peshawer</td>\n",
       "      <td>7</td>\n",
       "      <td>0.005</td>\n",
       "    </tr>\n",
       "    <tr>\n",
       "      <th>7</th>\n",
       "      <td>Silver</td>\n",
       "      <td>Watermmelon</td>\n",
       "      <td>Bugatti</td>\n",
       "      <td>Gaza</td>\n",
       "      <td>9</td>\n",
       "      <td>4.980</td>\n",
       "    </tr>\n",
       "    <tr>\n",
       "      <th>8</th>\n",
       "      <td>Grey</td>\n",
       "      <td>Cherry</td>\n",
       "      <td>Lamborghini</td>\n",
       "      <td>Kabul</td>\n",
       "      <td>7</td>\n",
       "      <td>6.650</td>\n",
       "    </tr>\n",
       "    <tr>\n",
       "      <th>9</th>\n",
       "      <td>White</td>\n",
       "      <td>Papaya</td>\n",
       "      <td>Ferrari</td>\n",
       "      <td>Tehran</td>\n",
       "      <td>6</td>\n",
       "      <td>3.600</td>\n",
       "    </tr>\n",
       "    <tr>\n",
       "      <th>10</th>\n",
       "      <td>Red</td>\n",
       "      <td>Coconut</td>\n",
       "      <td>Formula1</td>\n",
       "      <td>Istanbul</td>\n",
       "      <td>2</td>\n",
       "      <td>9.780</td>\n",
       "    </tr>\n",
       "  </tbody>\n",
       "</table>\n",
       "</div>"
      ],
      "text/plain": [
       "    Colors       Fruits         Cars      Cities  Integers  float\n",
       "0    Green        Mango      Corolla     Karachi         1  1.200\n",
       "1   Golden       Banana        Civic      Lahore         4  3.400\n",
       "2     Blue       Orange        Hilux      Makkah         6  9.800\n",
       "3   Yellow         Kiwi        Prado      Madina         2  7.600\n",
       "4   Orange        Berry       Cultus  Islam Abad         3  9.760\n",
       "5   Purple       Grapes        Camry  Hyder Abad         8  3.090\n",
       "6    Brown        Apple        Supra    Peshawer         7  0.005\n",
       "7   Silver  Watermmelon      Bugatti        Gaza         9  4.980\n",
       "8     Grey       Cherry  Lamborghini       Kabul         7  6.650\n",
       "9    White       Papaya      Ferrari      Tehran         6  3.600\n",
       "10     Red      Coconut     Formula1    Istanbul         2  9.780"
      ]
     },
     "execution_count": 13,
     "metadata": {},
     "output_type": "execute_result"
    }
   ],
   "source": [
    "import pandas as pd\n",
    "\n",
    "a = pd.read_csv('colors(csvfile5).csv')\n",
    "a"
   ]
  },
  {
   "cell_type": "code",
   "execution_count": 14,
   "id": "7f2a02fe",
   "metadata": {},
   "outputs": [
    {
     "data": {
      "text/plain": [
       "0      5\n",
       "1      6\n",
       "2      6\n",
       "3      4\n",
       "4      5\n",
       "5      6\n",
       "6      5\n",
       "7     11\n",
       "8      6\n",
       "9      6\n",
       "10     7\n",
       "Name: Fruits, dtype: int64"
      ]
     },
     "execution_count": 14,
     "metadata": {},
     "output_type": "execute_result"
    }
   ],
   "source": [
    "\n",
    "a['Fruits'].apply(len)\n"
   ]
  },
  {
   "cell_type": "code",
   "execution_count": 15,
   "id": "6cce4518",
   "metadata": {},
   "outputs": [
    {
     "data": {
      "text/plain": [
       "dtype('O')"
      ]
     },
     "execution_count": 15,
     "metadata": {},
     "output_type": "execute_result"
    }
   ],
   "source": [
    "# as it doesn't support integers and float, so first we will convert them to string to see their length\n",
    "a['float'] = a['float'].astype(str)\n",
    "a['float'].dtype # now this column is converted to string"
   ]
  },
  {
   "cell_type": "code",
   "execution_count": 16,
   "id": "c4a6bfc5",
   "metadata": {},
   "outputs": [
    {
     "data": {
      "text/plain": [
       "0     3\n",
       "1     3\n",
       "2     3\n",
       "3     3\n",
       "4     4\n",
       "5     4\n",
       "6     5\n",
       "7     4\n",
       "8     4\n",
       "9     3\n",
       "10    4\n",
       "Name: float, dtype: int64"
      ]
     },
     "execution_count": 16,
     "metadata": {},
     "output_type": "execute_result"
    }
   ],
   "source": [
    "a['float'].apply(len)\n"
   ]
  },
  {
   "cell_type": "code",
   "execution_count": 17,
   "id": "1c4c5ad8",
   "metadata": {},
   "outputs": [
    {
     "data": {
      "text/plain": [
       "0     3\n",
       "1     3\n",
       "2     3\n",
       "3     3\n",
       "4     4\n",
       "5     4\n",
       "6     5\n",
       "7     4\n",
       "8     4\n",
       "9     3\n",
       "10    4\n",
       "Name: float, dtype: int64"
      ]
     },
     "execution_count": 17,
     "metadata": {},
     "output_type": "execute_result"
    }
   ],
   "source": [
    "a['float'].apply(lambda x : len(x))"
   ]
  }
 ],
 "metadata": {
  "kernelspec": {
   "display_name": "Python 3 (ipykernel)",
   "language": "python",
   "name": "python3"
  },
  "language_info": {
   "codemirror_mode": {
    "name": "ipython",
    "version": 3
   },
   "file_extension": ".py",
   "mimetype": "text/x-python",
   "name": "python",
   "nbconvert_exporter": "python",
   "pygments_lexer": "ipython3",
   "version": "3.11.5"
  }
 },
 "nbformat": 4,
 "nbformat_minor": 5
}
