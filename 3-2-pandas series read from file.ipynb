{
 "cells": [
  {
   "cell_type": "markdown",
   "id": "170df270",
   "metadata": {},
   "source": [
    "###\n",
    "## Creating and reading CSV Files:\n",
    "###"
   ]
  },
  {
   "cell_type": "code",
   "execution_count": 10,
   "id": "ce115ee5",
   "metadata": {},
   "outputs": [
    {
     "data": {
      "text/html": [
       "<div>\n",
       "<style scoped>\n",
       "    .dataframe tbody tr th:only-of-type {\n",
       "        vertical-align: middle;\n",
       "    }\n",
       "\n",
       "    .dataframe tbody tr th {\n",
       "        vertical-align: top;\n",
       "    }\n",
       "\n",
       "    .dataframe thead th {\n",
       "        text-align: right;\n",
       "    }\n",
       "</style>\n",
       "<table border=\"1\" class=\"dataframe\">\n",
       "  <thead>\n",
       "    <tr style=\"text-align: right;\">\n",
       "      <th></th>\n",
       "      <th>Name</th>\n",
       "      <th>Gender</th>\n",
       "    </tr>\n",
       "    <tr>\n",
       "      <th>Age</th>\n",
       "      <th></th>\n",
       "      <th></th>\n",
       "    </tr>\n",
       "  </thead>\n",
       "  <tbody>\n",
       "    <tr>\n",
       "      <th>20</th>\n",
       "      <td>Ali</td>\n",
       "      <td>Male</td>\n",
       "    </tr>\n",
       "    <tr>\n",
       "      <th>19</th>\n",
       "      <td>Mohammed</td>\n",
       "      <td>Male</td>\n",
       "    </tr>\n",
       "    <tr>\n",
       "      <th>21</th>\n",
       "      <td>Jennifer</td>\n",
       "      <td>Female</td>\n",
       "    </tr>\n",
       "    <tr>\n",
       "      <th>19</th>\n",
       "      <td>Rayyan</td>\n",
       "      <td>Male</td>\n",
       "    </tr>\n",
       "  </tbody>\n",
       "</table>\n",
       "</div>"
      ],
      "text/plain": [
       "         Name  Gender\n",
       "Age                  \n",
       "20        Ali    Male\n",
       "19   Mohammed    Male\n",
       "21   Jennifer  Female\n",
       "19     Rayyan    Male"
      ]
     },
     "execution_count": 10,
     "metadata": {},
     "output_type": "execute_result"
    }
   ],
   "source": [
    "import pandas as pd\n",
    "\n",
    "a = pd.read_csv('name,age,gender.csv')\n",
    "a\n",
    "\n",
    "type(a)\n",
    "\n",
    "a = pd.read_csv('name,age,gender.csv', index_col = 1)\n",
    "#a\n",
    "a"
   ]
  },
  {
   "cell_type": "markdown",
   "id": "676b0e7f",
   "metadata": {},
   "source": [
    "##\n",
    "#### The usecols parameter in pd.read_csv() is used to specify which columns from CSV file should be read into DataFrame while squeeze converts dataframe to series format:\n"
   ]
  },
  {
   "cell_type": "code",
   "execution_count": 2,
   "id": "9665f2c5",
   "metadata": {},
   "outputs": [
    {
     "data": {
      "text/plain": [
       "0         Ali\n",
       "1    Mohammed\n",
       "2    Jennifer\n",
       "3      Rayyan\n",
       "Name: Name, dtype: object"
      ]
     },
     "execution_count": 2,
     "metadata": {},
     "output_type": "execute_result"
    }
   ],
   "source": [
    "# usecols, squeeze\n",
    "\n",
    "import pandas as pd\n",
    "\n",
    "a = pd.read_csv('name,age,gender.csv', usecols = ['Name']) \n",
    "a\n",
    "type(a)\n",
    "\n",
    "b = pd.read_csv('name,age,gender.csv', usecols = ['Name']).squeeze() # converts dataframe into series\n",
    "b\n",
    "#type(b)"
   ]
  },
  {
   "cell_type": "markdown",
   "id": "c1e6d5b0",
   "metadata": {},
   "source": [
    "###\n",
    "### Importing Text Files :\n",
    "###"
   ]
  },
  {
   "cell_type": "code",
   "execution_count": 19,
   "id": "f6f38b89",
   "metadata": {},
   "outputs": [
    {
     "data": {
      "text/html": [
       "<div>\n",
       "<style scoped>\n",
       "    .dataframe tbody tr th:only-of-type {\n",
       "        vertical-align: middle;\n",
       "    }\n",
       "\n",
       "    .dataframe tbody tr th {\n",
       "        vertical-align: top;\n",
       "    }\n",
       "\n",
       "    .dataframe thead th {\n",
       "        text-align: right;\n",
       "    }\n",
       "</style>\n",
       "<table border=\"1\" class=\"dataframe\">\n",
       "  <thead>\n",
       "    <tr style=\"text-align: right;\">\n",
       "      <th></th>\n",
       "      <th>Sr.no    Language      Country</th>\n",
       "    </tr>\n",
       "  </thead>\n",
       "  <tbody>\n",
       "    <tr>\n",
       "      <th>0</th>\n",
       "      <td>1        Urdu          Pakistan</td>\n",
       "    </tr>\n",
       "    <tr>\n",
       "      <th>1</th>\n",
       "      <td>2        Arabic        KSA</td>\n",
       "    </tr>\n",
       "    <tr>\n",
       "      <th>2</th>\n",
       "      <td>3        English       United Kingdom</td>\n",
       "    </tr>\n",
       "  </tbody>\n",
       "</table>\n",
       "</div>"
      ],
      "text/plain": [
       "         Sr.no    Language      Country \n",
       "0        1        Urdu          Pakistan\n",
       "1             2        Arabic        KSA\n",
       "2  3        English       United Kingdom"
      ]
     },
     "execution_count": 19,
     "metadata": {},
     "output_type": "execute_result"
    }
   ],
   "source": [
    "# importing text files\n",
    "\n",
    "import pandas as pd\n",
    "\n",
    "a = pd.read_table('C:\\\\Users\\\\HP\\\\OneDrive\\\\Documents//textfile1..txt')\n",
    "a"
   ]
  },
  {
   "cell_type": "markdown",
   "id": "a1e360bd",
   "metadata": {},
   "source": [
    "###\n",
    "### Importing Excel Files :\n",
    "###"
   ]
  },
  {
   "cell_type": "code",
   "execution_count": 5,
   "id": "d976b75f",
   "metadata": {},
   "outputs": [
    {
     "data": {
      "text/html": [
       "<div>\n",
       "<style scoped>\n",
       "    .dataframe tbody tr th:only-of-type {\n",
       "        vertical-align: middle;\n",
       "    }\n",
       "\n",
       "    .dataframe tbody tr th {\n",
       "        vertical-align: top;\n",
       "    }\n",
       "\n",
       "    .dataframe thead th {\n",
       "        text-align: right;\n",
       "    }\n",
       "</style>\n",
       "<table border=\"1\" class=\"dataframe\">\n",
       "  <thead>\n",
       "    <tr style=\"text-align: right;\">\n",
       "      <th></th>\n",
       "      <th>Name</th>\n",
       "      <th>Id</th>\n",
       "    </tr>\n",
       "  </thead>\n",
       "  <tbody>\n",
       "    <tr>\n",
       "      <th>0</th>\n",
       "      <td>Rayyan</td>\n",
       "      <td>22</td>\n",
       "    </tr>\n",
       "    <tr>\n",
       "      <th>1</th>\n",
       "      <td>Ahmed</td>\n",
       "      <td>21</td>\n",
       "    </tr>\n",
       "    <tr>\n",
       "      <th>2</th>\n",
       "      <td>Samad</td>\n",
       "      <td>26</td>\n",
       "    </tr>\n",
       "    <tr>\n",
       "      <th>3</th>\n",
       "      <td>Abdul</td>\n",
       "      <td>89</td>\n",
       "    </tr>\n",
       "    <tr>\n",
       "      <th>4</th>\n",
       "      <td>Abu Bakar</td>\n",
       "      <td>76</td>\n",
       "    </tr>\n",
       "  </tbody>\n",
       "</table>\n",
       "</div>"
      ],
      "text/plain": [
       "        Name  Id\n",
       "0     Rayyan  22\n",
       "1      Ahmed  21\n",
       "2      Samad  26\n",
       "3      Abdul  89\n",
       "4  Abu Bakar  76"
      ]
     },
     "execution_count": 5,
     "metadata": {},
     "output_type": "execute_result"
    }
   ],
   "source": [
    "# importing excel files that are not uploaded on jupyter\n",
    "\n",
    "import pandas as pd\n",
    "\n",
    "a = pd.read_excel(r'C:\\\\Users\\\\HP\\\\OneDrive\\\\Documents//marksfile1.xlsx')\n",
    "a\n",
    "\n",
    "# importing sheet 2 of a file\n",
    "\n",
    "import pandas as pd\n",
    "\n",
    "b = pd.read_excel(r'C:\\\\Users\\\\HP\\\\OneDrive\\\\Documents//marksfile1.xlsx', sheet_name = 'Sheet2')\n",
    "b"
   ]
  },
  {
   "cell_type": "markdown",
   "id": "e19ab0ab",
   "metadata": {},
   "source": [
    "###\n",
    "### Creating Tables:\n",
    "###"
   ]
  },
  {
   "cell_type": "code",
   "execution_count": 24,
   "id": "391b1157",
   "metadata": {},
   "outputs": [
    {
     "data": {
      "text/html": [
       "<div>\n",
       "<style scoped>\n",
       "    .dataframe tbody tr th:only-of-type {\n",
       "        vertical-align: middle;\n",
       "    }\n",
       "\n",
       "    .dataframe tbody tr th {\n",
       "        vertical-align: top;\n",
       "    }\n",
       "\n",
       "    .dataframe thead th {\n",
       "        text-align: right;\n",
       "    }\n",
       "</style>\n",
       "<table border=\"1\" class=\"dataframe\">\n",
       "  <thead>\n",
       "    <tr style=\"text-align: right;\">\n",
       "      <th></th>\n",
       "      <th>Country</th>\n",
       "      <th>Famous Place</th>\n",
       "    </tr>\n",
       "  </thead>\n",
       "  <tbody>\n",
       "    <tr>\n",
       "      <th>0</th>\n",
       "      <td>Pakistan</td>\n",
       "      <td>Faisal Mosque</td>\n",
       "    </tr>\n",
       "    <tr>\n",
       "      <th>1</th>\n",
       "      <td>Afghanistan</td>\n",
       "      <td>Band-e National Park</td>\n",
       "    </tr>\n",
       "    <tr>\n",
       "      <th>2</th>\n",
       "      <td>Palestine</td>\n",
       "      <td>Al-Aqsa Mosque</td>\n",
       "    </tr>\n",
       "  </tbody>\n",
       "</table>\n",
       "</div>"
      ],
      "text/plain": [
       "       Country          Famous Place\n",
       "0     Pakistan         Faisal Mosque\n",
       "1  Afghanistan  Band-e National Park\n",
       "2    Palestine        Al-Aqsa Mosque"
      ]
     },
     "execution_count": 24,
     "metadata": {},
     "output_type": "execute_result"
    }
   ],
   "source": [
    "# 1_creating tables and saving as csv files\n",
    "\n",
    "import pandas as pd\n",
    "\n",
    "a = {'Country' : ['Pakistan','Afghanistan','Palestine'],'Famous Place' : ['Faisal Mosque','Band-e National Park','Al-Aqsa Mosque']}\n",
    "b = pd.DataFrame(a)\n",
    "b\n",
    "\n",
    "b.to_csv('famous place(csvfile3).csv', index = False)\n",
    "b"
   ]
  },
  {
   "cell_type": "code",
   "execution_count": 31,
   "id": "0707911b",
   "metadata": {},
   "outputs": [
    {
     "data": {
      "text/html": [
       "<div>\n",
       "<style scoped>\n",
       "    .dataframe tbody tr th:only-of-type {\n",
       "        vertical-align: middle;\n",
       "    }\n",
       "\n",
       "    .dataframe tbody tr th {\n",
       "        vertical-align: top;\n",
       "    }\n",
       "\n",
       "    .dataframe thead th {\n",
       "        text-align: right;\n",
       "    }\n",
       "</style>\n",
       "<table border=\"1\" class=\"dataframe\">\n",
       "  <thead>\n",
       "    <tr style=\"text-align: right;\">\n",
       "      <th></th>\n",
       "      <th>Country's Name</th>\n",
       "      <th>Famous Site</th>\n",
       "    </tr>\n",
       "  </thead>\n",
       "  <tbody>\n",
       "    <tr>\n",
       "      <th>0</th>\n",
       "      <td>Pakistan</td>\n",
       "      <td>Faisal Mosque</td>\n",
       "    </tr>\n",
       "    <tr>\n",
       "      <th>1</th>\n",
       "      <td>Afghanistan</td>\n",
       "      <td>Band-e National Park</td>\n",
       "    </tr>\n",
       "    <tr>\n",
       "      <th>2</th>\n",
       "      <td>Palestine</td>\n",
       "      <td>Al-Aqsa Mosque</td>\n",
       "    </tr>\n",
       "  </tbody>\n",
       "</table>\n",
       "</div>"
      ],
      "text/plain": [
       "  Country's Name           Famous Site\n",
       "0       Pakistan         Faisal Mosque\n",
       "1    Afghanistan  Band-e National Park\n",
       "2      Palestine        Al-Aqsa Mosque"
      ]
     },
     "execution_count": 31,
     "metadata": {},
     "output_type": "execute_result"
    }
   ],
   "source": [
    "# changing column name\n",
    "\n",
    "import pandas as pd\n",
    "\n",
    "a = pd.read_csv('famous place(csvfile3).csv')\n",
    "a\n",
    "\n",
    "b = a.rename(columns = {'Country' : 'Country\\'s Name' , 'Famous Place' : 'Famous Site'})\n",
    "b"
   ]
  },
  {
   "cell_type": "code",
   "execution_count": 32,
   "id": "52e7cc9e",
   "metadata": {},
   "outputs": [
    {
     "data": {
      "text/html": [
       "<div>\n",
       "<style scoped>\n",
       "    .dataframe tbody tr th:only-of-type {\n",
       "        vertical-align: middle;\n",
       "    }\n",
       "\n",
       "    .dataframe tbody tr th {\n",
       "        vertical-align: top;\n",
       "    }\n",
       "\n",
       "    .dataframe thead th {\n",
       "        text-align: right;\n",
       "    }\n",
       "</style>\n",
       "<table border=\"1\" class=\"dataframe\">\n",
       "  <thead>\n",
       "    <tr style=\"text-align: right;\">\n",
       "      <th></th>\n",
       "      <th>Car Name</th>\n",
       "      <th>Brand</th>\n",
       "      <th>Owner ID</th>\n",
       "    </tr>\n",
       "  </thead>\n",
       "  <tbody>\n",
       "    <tr>\n",
       "      <th>0</th>\n",
       "      <td>Corolla</td>\n",
       "      <td>Toyota</td>\n",
       "      <td>20</td>\n",
       "    </tr>\n",
       "    <tr>\n",
       "      <th>1</th>\n",
       "      <td>Civic</td>\n",
       "      <td>Honda</td>\n",
       "      <td>35</td>\n",
       "    </tr>\n",
       "    <tr>\n",
       "      <th>2</th>\n",
       "      <td>Bolan</td>\n",
       "      <td>Suzuki</td>\n",
       "      <td>29</td>\n",
       "    </tr>\n",
       "  </tbody>\n",
       "</table>\n",
       "</div>"
      ],
      "text/plain": [
       "  Car Name   Brand  Owner ID\n",
       "0  Corolla  Toyota        20\n",
       "1    Civic   Honda        35\n",
       "2    Bolan  Suzuki        29"
      ]
     },
     "execution_count": 32,
     "metadata": {},
     "output_type": "execute_result"
    }
   ],
   "source": [
    "# 2_creating tables\n",
    "\n",
    "import pandas as pd\n",
    "\n",
    "a = pd.DataFrame([['Corolla','Toyota',20],['Civic','Honda',35],['Bolan','Suzuki',29]] , columns = ['Car Name','Brand','Owner ID'])\n",
    "a"
   ]
  },
  {
   "cell_type": "code",
   "execution_count": 35,
   "id": "45455cf7",
   "metadata": {},
   "outputs": [
    {
     "data": {
      "text/html": [
       "<div>\n",
       "<style scoped>\n",
       "    .dataframe tbody tr th:only-of-type {\n",
       "        vertical-align: middle;\n",
       "    }\n",
       "\n",
       "    .dataframe tbody tr th {\n",
       "        vertical-align: top;\n",
       "    }\n",
       "\n",
       "    .dataframe thead th {\n",
       "        text-align: right;\n",
       "    }\n",
       "</style>\n",
       "<table border=\"1\" class=\"dataframe\">\n",
       "  <thead>\n",
       "    <tr style=\"text-align: right;\">\n",
       "      <th></th>\n",
       "      <th>Cities</th>\n",
       "      <th>Province</th>\n",
       "      <th>Points</th>\n",
       "    </tr>\n",
       "  </thead>\n",
       "  <tbody>\n",
       "    <tr>\n",
       "      <th>0</th>\n",
       "      <td>Karachi</td>\n",
       "      <td>Sindh</td>\n",
       "      <td>10.0</td>\n",
       "    </tr>\n",
       "    <tr>\n",
       "      <th>1</th>\n",
       "      <td>Hyder Abad</td>\n",
       "      <td>Sindh</td>\n",
       "      <td>9.0</td>\n",
       "    </tr>\n",
       "    <tr>\n",
       "      <th>2</th>\n",
       "      <td>Lahore</td>\n",
       "      <td>Punjab</td>\n",
       "      <td>9.5</td>\n",
       "    </tr>\n",
       "    <tr>\n",
       "      <th>3</th>\n",
       "      <td>Islam Abad</td>\n",
       "      <td>Punab</td>\n",
       "      <td>10.0</td>\n",
       "    </tr>\n",
       "    <tr>\n",
       "      <th>4</th>\n",
       "      <td>Peshawar</td>\n",
       "      <td>KPK</td>\n",
       "      <td>9.5</td>\n",
       "    </tr>\n",
       "    <tr>\n",
       "      <th>5</th>\n",
       "      <td>Quetta</td>\n",
       "      <td>Balochistan</td>\n",
       "      <td>8.5</td>\n",
       "    </tr>\n",
       "  </tbody>\n",
       "</table>\n",
       "</div>"
      ],
      "text/plain": [
       "       Cities     Province  Points\n",
       "0     Karachi        Sindh    10.0\n",
       "1  Hyder Abad        Sindh     9.0\n",
       "2      Lahore       Punjab     9.5\n",
       "3  Islam Abad        Punab    10.0\n",
       "4    Peshawar          KPK     9.5\n",
       "5      Quetta  Balochistan     8.5"
      ]
     },
     "execution_count": 35,
     "metadata": {},
     "output_type": "execute_result"
    }
   ],
   "source": [
    "# 3_creating tables\n",
    "\n",
    "import pandas as pd\n",
    "\n",
    "a = [['Karachi','Sindh'],['Hyder Abad','Sindh'],['Lahore','Punjab'],['Islam Abad','Punab'],['Peshawar','KPK'],['Quetta','Balochistan']]\n",
    "b = pd.DataFrame(a, columns = ['Cities','Province'])\n",
    "b\n",
    "\n",
    "# adding new column\n",
    "\n",
    "b['Points'] = [10,9,9.5,10,9.5,8.5]\n",
    "b.dtypes\n",
    "b"
   ]
  },
  {
   "cell_type": "code",
   "execution_count": null,
   "id": "ebbf9e00",
   "metadata": {},
   "outputs": [],
   "source": []
  }
 ],
 "metadata": {
  "kernelspec": {
   "display_name": "Python 3 (ipykernel)",
   "language": "python",
   "name": "python3"
  },
  "language_info": {
   "codemirror_mode": {
    "name": "ipython",
    "version": 3
   },
   "file_extension": ".py",
   "mimetype": "text/x-python",
   "name": "python",
   "nbconvert_exporter": "python",
   "pygments_lexer": "ipython3",
   "version": "3.11.5"
  }
 },
 "nbformat": 4,
 "nbformat_minor": 5
}
